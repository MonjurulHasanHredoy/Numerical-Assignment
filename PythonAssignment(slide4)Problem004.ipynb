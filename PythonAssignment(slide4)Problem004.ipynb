{
 "cells": [
  {
   "cell_type": "markdown",
   "metadata": {},
   "source": [
    "# Python Assignment"
   ]
  },
  {
   "cell_type": "markdown",
   "metadata": {},
   "source": [
    "Problem 4: Using the card dictionary from earlier in this chapter, create a simple card game that deals two players three cards each. The player with the highest card wins. If there is a tie, then compare the second highest card and, if necessary, the third highest. If all three cards have the same value, then the game is a draw."
   ]
  },
  {
   "cell_type": "code",
   "execution_count": 8,
   "metadata": {},
   "outputs": [
    {
     "name": "stdout",
     "output_type": "stream",
     "text": [
      "A is the winer\n"
     ]
    }
   ],
   "source": [
    "def main():\n",
    "    A = {\n",
    "            'A':5,\n",
    "            'B':7,\n",
    "            'C':2\n",
    "        }\n",
    "\n",
    "    B = {\n",
    "            'A':2,\n",
    "            'B':7,\n",
    "            'C':3\n",
    "        }\n",
    "\n",
    "    LA = list(A.values())\n",
    "    LB = list(B.values())\n",
    "\n",
    "    if LA == LB:\n",
    "        print(\"Tie!!\")\n",
    "    elif LA > LB:\n",
    "        print(\"A is the winer\")\n",
    "    else:\n",
    "        print(\"B is the winer\")\n",
    "    \n",
    "\n",
    "main()\n"
   ]
  },
  {
   "cell_type": "code",
   "execution_count": null,
   "metadata": {},
   "outputs": [],
   "source": []
  }
 ],
 "metadata": {
  "kernelspec": {
   "display_name": "Python 3",
   "language": "python",
   "name": "python3"
  },
  "language_info": {
   "codemirror_mode": {
    "name": "ipython",
    "version": 3
   },
   "file_extension": ".py",
   "mimetype": "text/x-python",
   "name": "python",
   "nbconvert_exporter": "python",
   "pygments_lexer": "ipython3",
   "version": "3.7.0"
  }
 },
 "nbformat": 4,
 "nbformat_minor": 2
}
