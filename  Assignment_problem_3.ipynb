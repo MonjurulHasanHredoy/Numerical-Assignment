{
 "cells": [
  {
   "cell_type": "markdown",
   "metadata": {},
   "source": [
    "# Python Assignment."
   ]
  },
  {
   "cell_type": "markdown",
   "metadata": {},
   "source": [
    "Problem 3:Write the same function except that it should not modify the original list and should instead return a new list."
   ]
  },
  {
   "cell_type": "code",
   "execution_count": 2,
   "metadata": {},
   "outputs": [
    {
     "name": "stdout",
     "output_type": "stream",
     "text": [
      "Enter the number of Strings: 3\n",
      "qwe\n",
      "sdf\n",
      "cvb\n",
      "New String List: \n",
      "qwe!\n",
      "sdf!\n",
      "cvb!\n"
     ]
    }
   ],
   "source": [
    "def add_excitement( ar1 ):\n",
    "    ar2 = list()\n",
    "    \n",
    "    for i in range(len(ar1)):\n",
    "        tmp = ar1[i] + \"!\"  #adding ! after each string in the list\n",
    "        ar2.append(tmp) #append method add elements to the end of the list\n",
    "\n",
    "    return ar2\n",
    "\n",
    "def main():\n",
    "    n = int(input(\"Enter the number of Strings: \"))\n",
    "    arr = list()\n",
    "\n",
    "    for i in range(n):\n",
    "        tmp = input()\n",
    "        arr.append(tmp)  #append method add elements to the end of the list\n",
    "\n",
    "\n",
    "    res = add_excitement( arr )\n",
    "\n",
    "    print(\"New String List: \")\n",
    "    for i in range(len(res)):\n",
    "        print(res[i])\n",
    "\n",
    "main()\n"
   ]
  },
  {
   "cell_type": "code",
   "execution_count": null,
   "metadata": {},
   "outputs": [],
   "source": []
  }
 ],
 "metadata": {
  "kernelspec": {
   "display_name": "Python 3",
   "language": "python",
   "name": "python3"
  },
  "language_info": {
   "codemirror_mode": {
    "name": "ipython",
    "version": 3
   },
   "file_extension": ".py",
   "mimetype": "text/x-python",
   "name": "python",
   "nbconvert_exporter": "python",
   "pygments_lexer": "ipython3",
   "version": "3.7.0"
  }
 },
 "nbformat": 4,
 "nbformat_minor": 2
}
