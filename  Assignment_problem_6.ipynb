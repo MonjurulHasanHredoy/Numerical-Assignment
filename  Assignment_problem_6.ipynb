{
 "cells": [
  {
   "cell_type": "markdown",
   "metadata": {},
   "source": [
    "# Python Assignment."
   ]
  },
  {
   "cell_type": "markdown",
   "metadata": {},
   "source": [
    "Problem 6: Write a function called matches that takes two strings as arguments and returns how many matches there are between the strings. A match is where the two strings have the same character at the same index. For instance, ' python ' and ' path ' match in the first, third, and fourth characters, so the function should return 3."
   ]
  },
  {
   "cell_type": "code",
   "execution_count": 1,
   "metadata": {},
   "outputs": [
    {
     "name": "stdout",
     "output_type": "stream",
     "text": [
      "Apple\n",
      "App\n",
      "Number of matches: \n",
      "3\n"
     ]
    }
   ],
   "source": [
    "def match( a, b ):\n",
    "    ln1 = len(a)\n",
    "    ln2 = len(b)\n",
    "    count = 0\n",
    "\n",
    "    for i in range(0, min(ln1, ln2), 1): # loop will continue the minimum length\n",
    "        if( a[i] == b[i] ):\n",
    "            count += 1\n",
    "\n",
    "    return count # it will return the result\n",
    "\n",
    "def main():\n",
    "    str1 = input()\n",
    "    str2 = input()\n",
    "\n",
    "    res = match( str1, str2 ) # the function will match two string.\n",
    "    print(\"Number of matches: \")\n",
    "    print(res)\n",
    "\n",
    "main()\n"
   ]
  },
  {
   "cell_type": "code",
   "execution_count": null,
   "metadata": {},
   "outputs": [],
   "source": []
  }
 ],
 "metadata": {
  "kernelspec": {
   "display_name": "Python 3",
   "language": "python",
   "name": "python3"
  },
  "language_info": {
   "codemirror_mode": {
    "name": "ipython",
    "version": 3
   },
   "file_extension": ".py",
   "mimetype": "text/x-python",
   "name": "python",
   "nbconvert_exporter": "python",
   "pygments_lexer": "ipython3",
   "version": "3.7.0"
  }
 },
 "nbformat": 4,
 "nbformat_minor": 2
}
