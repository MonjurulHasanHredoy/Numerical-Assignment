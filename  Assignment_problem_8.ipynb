{
 "cells": [
  {
   "cell_type": "markdown",
   "metadata": {},
   "source": [
    "# Python Assignment"
   ]
  },
  {
   "cell_type": "markdown",
   "metadata": {},
   "source": [
    "Problem 8: Recall that if s is a string, then s.find( ' a ' ) will find the location of the first a in s . The problem is that it does not find the location of every a. Write a function called findall that given a string and a single character, returns a list containing all of the locations of that character in the string. It should return an empty list if there are no occurrences of the character in the string."
   ]
  },
  {
   "cell_type": "code",
   "execution_count": 1,
   "metadata": {},
   "outputs": [
    {
     "name": "stdout",
     "output_type": "stream",
     "text": [
      "Enter a string: qwertyusdadssfdfdgdfgdgsgsdfhgfhdg\n",
      "Enter a character: d\n",
      "Occurance are: \n",
      "8\n",
      "10\n",
      "14\n",
      "16\n",
      "18\n",
      "21\n",
      "26\n",
      "32\n"
     ]
    }
   ],
   "source": [
    "def findAllposition(T,c):\n",
    "    pos = list() # this array will contain all the postions where\n",
    "                 # the character will be found.\n",
    "    for i in range(0,len(T),1):\n",
    "        if(T[i] == c): #Found the character in position i\n",
    "            pos.append(i) #store the position\n",
    "\n",
    "    return pos   # result set     \n",
    "\n",
    "def main():\n",
    "    txt = input(\"Enter a string: \")  \n",
    "    ch = input(\"Enter a character: \")\n",
    "\n",
    "    res = findAllposition(txt,ch) # this function will find all the\n",
    "                                 # position of ch in txt string\n",
    "    if(len(res) == 0):\n",
    "        print(\"No occurance\")\n",
    "    else:\n",
    "        print(\"Occurance are: \")\n",
    "        for i in range(0,len(res),1):\n",
    "            print(res[i])\n",
    "\n",
    "main()            \n"
   ]
  },
  {
   "cell_type": "code",
   "execution_count": null,
   "metadata": {},
   "outputs": [],
   "source": []
  }
 ],
 "metadata": {
  "kernelspec": {
   "display_name": "Python 3",
   "language": "python",
   "name": "python3"
  },
  "language_info": {
   "codemirror_mode": {
    "name": "ipython",
    "version": 3
   },
   "file_extension": ".py",
   "mimetype": "text/x-python",
   "name": "python",
   "nbconvert_exporter": "python",
   "pygments_lexer": "ipython3",
   "version": "3.7.0"
  }
 },
 "nbformat": 4,
 "nbformat_minor": 2
}
