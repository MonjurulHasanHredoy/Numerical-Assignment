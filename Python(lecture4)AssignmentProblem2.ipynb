{
 "cells": [
  {
   "cell_type": "markdown",
   "metadata": {},
   "source": [
    "# Python Assignment"
   ]
  },
  {
   "cell_type": "markdown",
   "metadata": {},
   "source": [
    "Problem 2: Using the dictionary created in the previous problem, allow the user to enter a dollar amount and print out all the products whose price is less than that amount."
   ]
  },
  {
   "cell_type": "code",
   "execution_count": 2,
   "metadata": {},
   "outputs": [
    {
     "name": "stdout",
     "output_type": "stream",
     "text": [
      "Enter Name : pen\n",
      "Enter Price : 10.05\n",
      "Continue y/n? y\n",
      "Enter Name : book\n",
      "Enter Price : 100\n",
      "Continue y/n? y\n",
      "Enter Name : pencil\n",
      "Enter Price : 10.05\n",
      "Continue y/n? n\n",
      "------------------------------------\n",
      "Enter a price $ 10.05\n",
      "['pen', 'pencil']\n",
      "Continue y/n ?y\n",
      "Enter a price $ 100\n",
      "['book']\n",
      "Continue y/n ?y\n",
      "Enter a price $ 20\n",
      "[]\n",
      "Continue y/n ?n\n"
     ]
    }
   ],
   "source": [
    "def inputDict():        # takes item inputs from user\n",
    "    dct = dict()    # declare a dictionary \n",
    "\n",
    "    while True: \n",
    "        name = input(\"Enter Name : \")\n",
    "        price = input(\"Enter Price : \")\n",
    "        dct[name] = price    # name(key), price(value)\n",
    "\n",
    "        yn = input(\"Continue y/n? \")\n",
    "        if yn != 'y':\n",
    "            break\n",
    "\n",
    "    return dct\n",
    " \n",
    "def main():\n",
    "    dictionary = inputDict()   \n",
    "\n",
    "    print(\"------------------------------------\")\n",
    "    while True:\n",
    "        price = input(\"Enter a price $ \")\n",
    "\n",
    "        itemList = [x[0] for x in dictionary.items() if x[1] == price]\n",
    "        print(itemList)\n",
    "\n",
    "        yn = input(\"Continue y/n ?\")\n",
    "        if yn != 'y':\n",
    "            break\n",
    "\n",
    "main()"
   ]
  },
  {
   "cell_type": "code",
   "execution_count": null,
   "metadata": {},
   "outputs": [],
   "source": []
  }
 ],
 "metadata": {
  "kernelspec": {
   "display_name": "Python 3",
   "language": "python",
   "name": "python3"
  },
  "language_info": {
   "codemirror_mode": {
    "name": "ipython",
    "version": 3
   },
   "file_extension": ".py",
   "mimetype": "text/x-python",
   "name": "python",
   "nbconvert_exporter": "python",
   "pygments_lexer": "ipython3",
   "version": "3.7.0"
  }
 },
 "nbformat": 4,
 "nbformat_minor": 2
}
