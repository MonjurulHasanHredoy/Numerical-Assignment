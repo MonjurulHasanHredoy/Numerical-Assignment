{
 "cells": [
  {
   "cell_type": "markdown",
   "metadata": {},
   "source": [
    "# Python Assignment"
   ]
  },
  {
   "cell_type": "markdown",
   "metadata": {},
   "source": [
    "Problem 3: Write a program that uses a dictionary that contains ten user names and passwords. The program should ask the user to enter their username and password. If the username is not in the dictionary, the program should indicate that the person is not a valid user of the system. If the username is in the dictionary, but the user does not enter the right password, the program should say that the password is invalid. If the password is correct, then the program should tell the user that they are now logged in to the system."
   ]
  },
  {
   "cell_type": "code",
   "execution_count": 1,
   "metadata": {},
   "outputs": [
    {
     "name": "stdout",
     "output_type": "stream",
     "text": [
      "Enter Username: as\n",
      "Invalid User Name\n",
      "-----------------------\n",
      "Continue y/n ?y\n",
      "Enter Username: kamal\n",
      "Enter Password1256\n",
      "Incorrect Password\n",
      "-----------------------\n",
      "Continue y/n ?y\n",
      "Enter Username: kamal\n",
      "Enter Password1234\n",
      "Successful Login\n",
      "-----------------------\n",
      "Continue y/n ?n\n"
     ]
    }
   ],
   "source": [
    "def main():\n",
    "    DB = {\n",
    "            'kamal' : '1234',\n",
    "            'jamal' : '1243',\n",
    "            'damal' : '2345'\n",
    "        }\n",
    "\n",
    "    while True:\n",
    "        username = input(\"Enter Username: \")\n",
    "\n",
    "        if username in DB:\n",
    "            password = input(\"Enter Password\")\n",
    "\n",
    "            if password == DB[username]:\n",
    "                print(\"Successful Login\")\n",
    "            else:\n",
    "                print(\"Incorrect Password\")\n",
    "        else:\n",
    "            print(\"Invalid User Name\")\n",
    "            \n",
    "        print(\"-----------------------\")\n",
    "        yn = input(\"Continue y/n ?\")\n",
    "        if yn != 'y':\n",
    "            break\n",
    "    \n",
    "    return;\n",
    "\n",
    "main()\n"
   ]
  },
  {
   "cell_type": "code",
   "execution_count": null,
   "metadata": {},
   "outputs": [],
   "source": []
  }
 ],
 "metadata": {
  "kernelspec": {
   "display_name": "Python 3",
   "language": "python",
   "name": "python3"
  },
  "language_info": {
   "codemirror_mode": {
    "name": "ipython",
    "version": 3
   },
   "file_extension": ".py",
   "mimetype": "text/x-python",
   "name": "python",
   "nbconvert_exporter": "python",
   "pygments_lexer": "ipython3",
   "version": "3.7.0"
  }
 },
 "nbformat": 4,
 "nbformat_minor": 2
}
