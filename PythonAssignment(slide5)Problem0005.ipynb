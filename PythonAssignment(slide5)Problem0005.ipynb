{
 "cells": [
  {
   "cell_type": "markdown",
   "metadata": {},
   "source": [
    "# Python Assignment"
   ]
  },
  {
   "cell_type": "markdown",
   "metadata": {},
   "source": [
    "Problem 5: The GCD (greatest common divisor) of two numbers is the largest number that both are di- visible by. For instance, gcd (18, 42) is 6 because the largest number that both 18 and 42 are divisible by is 6. Write a program that asks the user for two numbers and computes their gcd. Shown below is a way to compute the GCD, called Euclid’s Algorithm.\n",
    "\n",
    "• First compute the remainder of dividing the larger number by the smaller number\n",
    "\n",
    "• Next, replace the larger number with the smaller number and the smaller number with the remainder.\n",
    "\n",
    "• Repeat this process until the smaller number is 0. The GCD is the last value of the larger number."
   ]
  },
  {
   "cell_type": "code",
   "execution_count": 1,
   "metadata": {},
   "outputs": [
    {
     "name": "stdout",
     "output_type": "stream",
     "text": [
      "Enter an integer: 16\n",
      "Enter another integer: 12\n",
      "GCD of 16 12 = 4\n"
     ]
    }
   ],
   "source": [
    "def GCD( a, b ):\n",
    "    if a == 0:\n",
    "        return b\n",
    "    if b == 0:\n",
    "        return a\n",
    "    \n",
    "    while b != 0:\n",
    "        r = a % b\n",
    "        a = b\n",
    "        b = r\n",
    "    \n",
    "    return a # gcd\n",
    "\n",
    "def main():\n",
    "    x = int(input(\"Enter an integer: \"))\n",
    "    y = int(input(\"Enter another integer: \"))\n",
    "    gcd = GCD( x, y )\n",
    "    print(\"GCD of\", x, y, \"=\", gcd)\n",
    "    \n",
    "main()"
   ]
  },
  {
   "cell_type": "code",
   "execution_count": null,
   "metadata": {},
   "outputs": [],
   "source": []
  }
 ],
 "metadata": {
  "kernelspec": {
   "display_name": "Python 3",
   "language": "python",
   "name": "python3"
  },
  "language_info": {
   "codemirror_mode": {
    "name": "ipython",
    "version": 3
   },
   "file_extension": ".py",
   "mimetype": "text/x-python",
   "name": "python",
   "nbconvert_exporter": "python",
   "pygments_lexer": "ipython3",
   "version": "3.7.0"
  }
 },
 "nbformat": 4,
 "nbformat_minor": 2
}
