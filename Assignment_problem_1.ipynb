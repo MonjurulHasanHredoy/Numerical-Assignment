{
 "cells": [
  {
   "cell_type": "markdown",
   "metadata": {},
   "source": [
    "# Python Assignment."
   ]
  },
  {
   "cell_type": "markdown",
   "metadata": {},
   "source": [
    "problem 1: Write a function called rectangle that takes two integers m and n as arguments and prints out an m × n box consisting of asterisks."
   ]
  },
  {
   "cell_type": "code",
   "execution_count": 1,
   "metadata": {},
   "outputs": [
    {
     "name": "stdout",
     "output_type": "stream",
     "text": [
      "3\n",
      "4\n",
      "****\n",
      "****\n",
      "****\n"
     ]
    }
   ],
   "source": [
    "def ractangle( m, n ):\n",
    "    for i in range (m):\n",
    "        tmp = \"\"\n",
    "        for j in range(n):\n",
    "            tmp += \"*\"\n",
    "        print(tmp)\n",
    "    \n",
    "def main():\n",
    "    x = int(input())\n",
    "    y = int(input())\n",
    "\n",
    "    ractangle( x, y )\n",
    "\n",
    "    \n",
    "main()\n"
   ]
  },
  {
   "cell_type": "code",
   "execution_count": null,
   "metadata": {},
   "outputs": [],
   "source": []
  }
 ],
 "metadata": {
  "kernelspec": {
   "display_name": "Python 3",
   "language": "python",
   "name": "python3"
  },
  "language_info": {
   "codemirror_mode": {
    "name": "ipython",
    "version": 3
   },
   "file_extension": ".py",
   "mimetype": "text/x-python",
   "name": "python",
   "nbconvert_exporter": "python",
   "pygments_lexer": "ipython3",
   "version": "3.7.0"
  }
 },
 "nbformat": 4,
 "nbformat_minor": 2
}
