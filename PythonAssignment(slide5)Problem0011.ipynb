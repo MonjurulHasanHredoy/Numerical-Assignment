{
 "cells": [
  {
   "cell_type": "markdown",
   "metadata": {},
   "source": [
    "# Python Assignment"
   ]
  },
  {
   "cell_type": "markdown",
   "metadata": {},
   "source": [
    "Problem 11: Randomly generate a 9 × 9 list where the entries are integers between 1 and 9 with no repeat entries in any row or in any column."
   ]
  },
  {
   "cell_type": "code",
   "execution_count": 1,
   "metadata": {},
   "outputs": [
    {
     "name": "stdout",
     "output_type": "stream",
     "text": [
      "[4, 4, 4, 0, 2, 7, 6, 3, 4]\n",
      "[0, 1, 0, 4, 3, 7, 3, 7, 2]\n",
      "[3, 1, 5, 1, 7, 2, 0, 9, 7]\n",
      "[3, 8, 8, 6, 9, 3, 9, 7, 4]\n",
      "[1, 3, 4, 4, 5, 0, 3, 4, 4]\n",
      "[9, 0, 9, 8, 7, 4, 3, 7, 2]\n",
      "[4, 3, 0, 8, 4, 2, 0, 0, 3]\n",
      "[8, 5, 7, 6, 4, 8, 0, 9, 2]\n",
      "[2, 8, 6, 7, 4, 0, 2, 8, 1]\n"
     ]
    }
   ],
   "source": [
    "import random\n",
    "\n",
    "def main():\n",
    "    m = []\n",
    "    \n",
    "    for i in range(9):\n",
    "        tmp = []\n",
    "        for j in range(9):\n",
    "            x = random.randint(0, 9)\n",
    "            tmp.append(x)\n",
    "        m.append(tmp)\n",
    "    \n",
    "    for i in range(9):\n",
    "        print(m[i])\n",
    "    \n",
    "main()"
   ]
  },
  {
   "cell_type": "code",
   "execution_count": null,
   "metadata": {},
   "outputs": [],
   "source": []
  }
 ],
 "metadata": {
  "kernelspec": {
   "display_name": "Python 3",
   "language": "python",
   "name": "python3"
  },
  "language_info": {
   "codemirror_mode": {
    "name": "ipython",
    "version": 3
   },
   "file_extension": ".py",
   "mimetype": "text/x-python",
   "name": "python",
   "nbconvert_exporter": "python",
   "pygments_lexer": "ipython3",
   "version": "3.7.0"
  }
 },
 "nbformat": 4,
 "nbformat_minor": 2
}
