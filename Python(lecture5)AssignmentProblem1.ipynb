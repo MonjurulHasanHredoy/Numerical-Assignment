{
 "cells": [
  {
   "cell_type": "markdown",
   "metadata": {},
   "source": [
    "# Python Assigment"
   ]
  },
  {
   "cell_type": "markdown",
   "metadata": {},
   "source": [
    "Problem 1: Write a program that uses a while loop (not a for loop) to read through a string and print the characters of the string one-by-one on separate lines."
   ]
  },
  {
   "cell_type": "code",
   "execution_count": 2,
   "metadata": {},
   "outputs": [
    {
     "name": "stdout",
     "output_type": "stream",
     "text": [
      "Enter a Stringabcedfsfewegsdg\n",
      "a\n",
      "b\n",
      "c\n",
      "e\n",
      "d\n",
      "f\n",
      "s\n",
      "f\n",
      "e\n",
      "w\n",
      "e\n",
      "g\n",
      "s\n",
      "d\n",
      "g\n"
     ]
    }
   ],
   "source": [
    "def main():\n",
    "    s = str(input(\"Enter a String\"))\n",
    "    \n",
    "    i = 0\n",
    "    ln = len(s)  # lenth of the string\n",
    "    while i < ln:\n",
    "        print(s[i])\n",
    "        i = i + 1\n",
    "\n",
    "main()"
   ]
  },
  {
   "cell_type": "code",
   "execution_count": null,
   "metadata": {},
   "outputs": [],
   "source": []
  }
 ],
 "metadata": {
  "kernelspec": {
   "display_name": "Python 3",
   "language": "python",
   "name": "python3"
  },
  "language_info": {
   "codemirror_mode": {
    "name": "ipython",
    "version": 3
   },
   "file_extension": ".py",
   "mimetype": "text/x-python",
   "name": "python",
   "nbconvert_exporter": "python",
   "pygments_lexer": "ipython3",
   "version": "3.7.0"
  }
 },
 "nbformat": 4,
 "nbformat_minor": 2
}
