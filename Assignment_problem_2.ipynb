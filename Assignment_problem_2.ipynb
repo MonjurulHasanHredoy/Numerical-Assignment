{
 "cells": [
  {
   "cell_type": "markdown",
   "metadata": {},
   "source": [
    "# Python Assignment."
   ]
  },
  {
   "cell_type": "markdown",
   "metadata": {},
   "source": [
    "Problem 2: Write a function called add_excitement that takes a list of strings and adds an exclamation point ( ! ) to the end of each string in the list. The program should modify the original list and not return anything."
   ]
  },
  {
   "cell_type": "code",
   "execution_count": 3,
   "metadata": {},
   "outputs": [
    {
     "name": "stdout",
     "output_type": "stream",
     "text": [
      "Enter the number of Strings: 4\n",
      "asasass\n",
      "asasd\n",
      "sdfdf\n",
      "fgg\n",
      "Afer adding !\n",
      "asasass!\n",
      "asasd!\n",
      "sdfdf!\n",
      "fgg!\n"
     ]
    }
   ],
   "source": [
    "def add_excitement( ar ):\n",
    "    ln = int(len(ar))\n",
    "\n",
    "    for i in range(0, ln, 1):\n",
    "        ar[i] += \"!\" #adding ! after each string in the list\n",
    "\n",
    "    print(\"Afer adding !\")\n",
    "    for i in range(0, ln, 1):\n",
    "        print(ar[i])\n",
    "\n",
    "def main():\n",
    "    n = int(input(\"Enter the number of Strings: \"))\n",
    "    arr = list()\n",
    "\n",
    "    for i in range(0, n, 1):\n",
    "        tmp = input()\n",
    "        arr.append(tmp)\n",
    "\n",
    "    add_excitement( arr )\n",
    "\n",
    "main()\n",
    "\n"
   ]
  },
  {
   "cell_type": "code",
   "execution_count": null,
   "metadata": {},
   "outputs": [],
   "source": []
  }
 ],
 "metadata": {
  "kernelspec": {
   "display_name": "Python 3",
   "language": "python",
   "name": "python3"
  },
  "language_info": {
   "codemirror_mode": {
    "name": "ipython",
    "version": 3
   },
   "file_extension": ".py",
   "mimetype": "text/x-python",
   "name": "python",
   "nbconvert_exporter": "python",
   "pygments_lexer": "ipython3",
   "version": "3.7.0"
  }
 },
 "nbformat": 4,
 "nbformat_minor": 2
}
