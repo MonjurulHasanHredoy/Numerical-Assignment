{
 "cells": [
  {
   "cell_type": "markdown",
   "metadata": {},
   "source": [
    "# Python Assignment"
   ]
  },
  {
   "cell_type": "markdown",
   "metadata": {},
   "source": [
    "Problem 10: Randomly generate a 6 × 6 list that has exactly 12 ones placed in random locations in the list. The rest of the entries should be zeroes."
   ]
  },
  {
   "cell_type": "code",
   "execution_count": 1,
   "metadata": {},
   "outputs": [
    {
     "name": "stdout",
     "output_type": "stream",
     "text": [
      "After Change: \n",
      "[0, 0, 1, 0, 1, 0]\n",
      "[1, 0, 1, 0, 0, 1]\n",
      "[0, 0, 0, 0, 0, 1]\n",
      "[0, 0, 0, 0, 0, 0]\n",
      "[0, 0, 0, 1, 1, 1]\n",
      "[0, 0, 0, 0, 0, 0]\n"
     ]
    }
   ],
   "source": [
    "import random\n",
    "\n",
    "def main():\n",
    "    # 6 x 6 list with 0\n",
    "    m = [                     \n",
    "            [0, 0, 0, 0, 0, 0],\n",
    "            [0, 0, 0, 0, 0, 0],\n",
    "            [0, 0, 0, 0, 0, 0],\n",
    "            [0, 0, 0, 0, 0, 0],\n",
    "            [0, 0, 0, 0, 0, 0],\n",
    "            [0, 0, 0, 0, 0, 0]\n",
    "        ]\n",
    "    \n",
    "    for i in range(12):\n",
    "        x = random.randint(0, 5)\n",
    "        y = random.randint(0, 5)\n",
    "        \n",
    "        m[x][y] = 1\n",
    "    \n",
    "    print(\"After Change: \")\n",
    "    \n",
    "    for i in range(6):\n",
    "        print(m[i])\n",
    "        \n",
    "main()"
   ]
  },
  {
   "cell_type": "code",
   "execution_count": null,
   "metadata": {},
   "outputs": [],
   "source": []
  }
 ],
 "metadata": {
  "kernelspec": {
   "display_name": "Python 3",
   "language": "python",
   "name": "python3"
  },
  "language_info": {
   "codemirror_mode": {
    "name": "ipython",
    "version": 3
   },
   "file_extension": ".py",
   "mimetype": "text/x-python",
   "name": "python",
   "nbconvert_exporter": "python",
   "pygments_lexer": "ipython3",
   "version": "3.7.0"
  }
 },
 "nbformat": 4,
 "nbformat_minor": 2
}
