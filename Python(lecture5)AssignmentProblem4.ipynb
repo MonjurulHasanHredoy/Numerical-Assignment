{
 "cells": [
  {
   "cell_type": "markdown",
   "metadata": {},
   "source": [
    "# Python Assignment"
   ]
  },
  {
   "cell_type": "markdown",
   "metadata": {},
   "source": [
    "Problem 4: Recall that, given a string s , s.index( ' x ' ) returns the index of the first x in s and an error if there is no x.\n",
    "(a) Write a program that asks the user for a string and a letter. Using a while loop, the program should print the index of the first occurrence of that letter and a message if the string does not contain the letter.\n",
    "\n",
    "(b) Write the above program using a for/break loop instead of a while loop."
   ]
  },
  {
   "cell_type": "code",
   "execution_count": 2,
   "metadata": {},
   "outputs": [
    {
     "name": "stdout",
     "output_type": "stream",
     "text": [
      "Enter a character: g\n",
      "First occurerenc of g = 6\n"
     ]
    }
   ],
   "source": [
    "def check( x, s ):\n",
    "    i = 0\n",
    "    ln = len(s)  # length of the string\n",
    "    while i < ln:\n",
    "        if s[i] == x:\n",
    "            return i\n",
    "        i = i + 1\n",
    "    \n",
    "    return -1\n",
    "\n",
    "def main():\n",
    "    s = \"abcdefghijabcdegedgdfgsaa\"\n",
    "    \n",
    "    x = input(\"Enter a character: \")\n",
    "    pos = check( x, s )\n",
    "    if pos != -1:\n",
    "        print(\"First occurerenc of\", x, \"=\", pos)\n",
    "    else:\n",
    "        print(x, \"does not belong to\", s)\n",
    "\n",
    "main()"
   ]
  },
  {
   "cell_type": "code",
   "execution_count": 3,
   "metadata": {},
   "outputs": [
    {
     "name": "stdout",
     "output_type": "stream",
     "text": [
      "Enter a character: y\n",
      "y does not belong to abcdefghijabcdegedgdfgsaa\n"
     ]
    }
   ],
   "source": [
    "def check( x, s ):\n",
    "    i = 0\n",
    "    ln = len(s)  # length of the string\n",
    "    while i < ln:\n",
    "        if s[i] == x:\n",
    "            return i\n",
    "        i = i + 1\n",
    "    \n",
    "    return -1\n",
    "\n",
    "def main():\n",
    "    s = \"abcdefghijabcdegedgdfgsaa\"\n",
    "    \n",
    "    x = input(\"Enter a character: \")\n",
    "    pos = check( x, s )\n",
    "    if pos != -1:\n",
    "        print(\"First occurerenc of\", x, \"=\", pos)\n",
    "    else:\n",
    "        print(x, \"does not belong to\", s)\n",
    "\n",
    "main()"
   ]
  },
  {
   "cell_type": "code",
   "execution_count": null,
   "metadata": {},
   "outputs": [],
   "source": []
  }
 ],
 "metadata": {
  "kernelspec": {
   "display_name": "Python 3",
   "language": "python",
   "name": "python3"
  },
  "language_info": {
   "codemirror_mode": {
    "name": "ipython",
    "version": 3
   },
   "file_extension": ".py",
   "mimetype": "text/x-python",
   "name": "python",
   "nbconvert_exporter": "python",
   "pygments_lexer": "ipython3",
   "version": "3.7.0"
  }
 },
 "nbformat": 4,
 "nbformat_minor": 2
}
