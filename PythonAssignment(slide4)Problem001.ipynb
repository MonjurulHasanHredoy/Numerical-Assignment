{
 "cells": [
  {
   "cell_type": "markdown",
   "metadata": {},
   "source": [
    "# Python Assignment"
   ]
  },
  {
   "cell_type": "markdown",
   "metadata": {},
   "source": [
    "Problem 1: Write a program that repeatedly asks the user to enter product names and prices. Store all of these in a dictionary whose keys are the product names and whose values are the prices. When the user is done entering products and prices, allow them to repeatedly enter a product name and print the corresponding price or a message if the product is not in the dictionary."
   ]
  },
  {
   "cell_type": "code",
   "execution_count": 5,
   "metadata": {},
   "outputs": [
    {
     "name": "stdout",
     "output_type": "stream",
     "text": [
      "Name: pen\n",
      "Price: 10.5\n",
      "Continue y/n ?y\n",
      "Name: book\n",
      "Price: 100.67\n",
      "Continue y/n ?n\n",
      "Enter an item name: book\n",
      "Price of book = 100.67\n",
      "Continue y/n ?y\n",
      "Enter an item name: pen\n",
      "Price of pen = 10.5\n",
      "Continue y/n ?y\n",
      "Enter an item name: pencil\n",
      "pencil does not exits\n",
      "Continue y/n ?n\n"
     ]
    }
   ],
   "source": [
    "def inputDict():\n",
    "    d = dict()\n",
    "    \n",
    "    while True:\n",
    "        name = input(\"Name: \")\n",
    "        price = input(\"Price: \")\n",
    "        d[name] = price\n",
    "        \n",
    "        yn = input(\"Continue y/n ?\")\n",
    "        if yn != 'y':\n",
    "            break\n",
    "    \n",
    "    return d\n",
    "\n",
    "def main():\n",
    "    d = inputDict()\n",
    "    \n",
    "    while True:\n",
    "        item = input(\"Enter an item name: \")\n",
    "        if item in d:  # search in dictionary\n",
    "            print(\"Price of \" + item + \" = \" + d[item])\n",
    "        else:                      \n",
    "            print(item + \" does not exits\")\n",
    "            \n",
    "        yn = input(\"Continue y/n ?\")\n",
    "        if yn != 'y':\n",
    "            break\n",
    "\n",
    "main()"
   ]
  },
  {
   "cell_type": "code",
   "execution_count": null,
   "metadata": {},
   "outputs": [],
   "source": []
  }
 ],
 "metadata": {
  "kernelspec": {
   "display_name": "Python 3",
   "language": "python",
   "name": "python3"
  },
  "language_info": {
   "codemirror_mode": {
    "name": "ipython",
    "version": 3
   },
   "file_extension": ".py",
   "mimetype": "text/x-python",
   "name": "python",
   "nbconvert_exporter": "python",
   "pygments_lexer": "ipython3",
   "version": "3.7.0"
  }
 },
 "nbformat": 4,
 "nbformat_minor": 2
}
