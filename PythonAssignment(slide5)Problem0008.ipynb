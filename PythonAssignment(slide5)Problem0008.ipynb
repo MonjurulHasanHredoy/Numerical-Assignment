{
 "cells": [
  {
   "cell_type": "markdown",
   "metadata": {},
   "source": [
    "# Python Assignment"
   ]
  },
  {
   "cell_type": "markdown",
   "metadata": {},
   "source": [
    "Probelm 8: Write a program in which you have a list that contains seven integers that can be 0 or 1. Find the first nonzero entry in the list and change it to a 1. If there are no nonzero entries, print a message saying so."
   ]
  },
  {
   "cell_type": "code",
   "execution_count": 2,
   "metadata": {},
   "outputs": [
    {
     "name": "stdout",
     "output_type": "stream",
     "text": [
      "[1, 1, 1, 1, 1, 0, 1]\n"
     ]
    }
   ],
   "source": [
    "def main():\n",
    "    a = [1, 1, 0, 1, 1, 0, 1]\n",
    "    flag = 0\n",
    "    for i in range(7):\n",
    "        if a[i] == 0:\n",
    "            a[i] = 1\n",
    "            flag = 1\n",
    "            break\n",
    "            \n",
    "    if flag == 0:\n",
    "        print(\"No no zero element\")\n",
    "    else:\n",
    "        print(a)\n",
    "\n",
    "main()    "
   ]
  },
  {
   "cell_type": "code",
   "execution_count": 3,
   "metadata": {},
   "outputs": [
    {
     "name": "stdout",
     "output_type": "stream",
     "text": [
      "No no zero element\n"
     ]
    }
   ],
   "source": [
    "def main():\n",
    "    a = [1, 1, 1, 1, 1, 1, 1]\n",
    "    flag = 0\n",
    "    for i in range(7):\n",
    "        if a[i] == 0:\n",
    "            a[i] = 1\n",
    "            flag = 1\n",
    "            break\n",
    "            \n",
    "    if flag == 0:\n",
    "        print(\"No no zero element\")\n",
    "    else:\n",
    "        print(a)\n",
    "\n",
    "main()  "
   ]
  },
  {
   "cell_type": "code",
   "execution_count": null,
   "metadata": {},
   "outputs": [],
   "source": []
  }
 ],
 "metadata": {
  "kernelspec": {
   "display_name": "Python 3",
   "language": "python",
   "name": "python3"
  },
  "language_info": {
   "codemirror_mode": {
    "name": "ipython",
    "version": 3
   },
   "file_extension": ".py",
   "mimetype": "text/x-python",
   "name": "python",
   "nbconvert_exporter": "python",
   "pygments_lexer": "ipython3",
   "version": "3.7.0"
  }
 },
 "nbformat": 4,
 "nbformat_minor": 2
}
